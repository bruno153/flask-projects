{
 "cells": [
  {
   "cell_type": "code",
   "execution_count": 2,
   "id": "cef5e63d-f98d-4e2b-babb-86f5e3254831",
   "metadata": {},
   "outputs": [],
   "source": [
    "import requests"
   ]
  },
  {
   "cell_type": "code",
   "execution_count": 8,
   "id": "95a1d53c-6481-4fa3-b6ef-2a9db5e01541",
   "metadata": {},
   "outputs": [],
   "source": [
    "port = '5000'\n",
    "headers = {'Content-type': 'application/json'}"
   ]
  },
  {
   "cell_type": "markdown",
   "id": "d3c394ab-881c-4bb7-a398-96cde746ce82",
   "metadata": {},
   "source": [
    "## create store"
   ]
  },
  {
   "cell_type": "code",
   "execution_count": 56,
   "id": "c2fb5d1e-167a-4ad6-a141-6d70945aaf14",
   "metadata": {},
   "outputs": [],
   "source": [
    "data = {\n",
    "    \"name\": \"Pet Shop\"\n",
    "}\n",
    "\n",
    "\n",
    "response = requests.post(f\"http://127.0.0.1:{port}/store\", json=data, headers=headers)"
   ]
  },
  {
   "cell_type": "code",
   "execution_count": 57,
   "id": "494e4d0f-7c9b-494d-839f-05c5aa5cfae5",
   "metadata": {},
   "outputs": [
    {
     "data": {
      "text/plain": [
       "200"
      ]
     },
     "execution_count": 57,
     "metadata": {},
     "output_type": "execute_result"
    }
   ],
   "source": [
    "response.status_code"
   ]
  },
  {
   "cell_type": "code",
   "execution_count": 58,
   "id": "c6b6e6bb-7123-4231-a111-f13de82767e4",
   "metadata": {},
   "outputs": [
    {
     "data": {
      "text/plain": [
       "{'id': '1bdde24b26124ecfbcd05d3bb225d99f', 'name': 'Pet Shop'}"
      ]
     },
     "execution_count": 58,
     "metadata": {},
     "output_type": "execute_result"
    }
   ],
   "source": [
    "response.json()"
   ]
  },
  {
   "cell_type": "markdown",
   "id": "dde70111-3f4a-474d-a647-dbef70e5f7f2",
   "metadata": {
    "tags": []
   },
   "source": [
    "## get store"
   ]
  },
  {
   "cell_type": "code",
   "execution_count": 59,
   "id": "c7193724-fdf3-41db-afb9-b0dcb1cc36d8",
   "metadata": {},
   "outputs": [],
   "source": [
    "store_id = '1bdde24b26124ecfbcd05d3bb225d99f'\n",
    "response = requests.get(f\"http://127.0.0.1:{port}/store/{store_id}\")"
   ]
  },
  {
   "cell_type": "code",
   "execution_count": 60,
   "id": "2929cbce-7574-47cf-808e-7fe85c6c32e2",
   "metadata": {},
   "outputs": [
    {
     "data": {
      "text/plain": [
       "200"
      ]
     },
     "execution_count": 60,
     "metadata": {},
     "output_type": "execute_result"
    }
   ],
   "source": [
    "response.status_code"
   ]
  },
  {
   "cell_type": "code",
   "execution_count": 61,
   "id": "1e3b26cc-a75a-489a-b2db-544eb5256dd7",
   "metadata": {},
   "outputs": [
    {
     "data": {
      "text/plain": [
       "{'id': '1bdde24b26124ecfbcd05d3bb225d99f', 'name': 'Pet Shop'}"
      ]
     },
     "execution_count": 61,
     "metadata": {},
     "output_type": "execute_result"
    }
   ],
   "source": [
    "response.json()"
   ]
  },
  {
   "cell_type": "markdown",
   "id": "1c3a855e-4c5b-426f-bf6b-f987e7a7e029",
   "metadata": {},
   "source": [
    "## get all stores"
   ]
  },
  {
   "cell_type": "code",
   "execution_count": 62,
   "id": "b7d6ead6-030a-46f9-8dab-a8c19db5f2bb",
   "metadata": {},
   "outputs": [],
   "source": [
    "response = requests.get(f\"http://127.0.0.1:{port}/store\")"
   ]
  },
  {
   "cell_type": "code",
   "execution_count": 63,
   "id": "b669d8ee-4923-438a-b4a9-2c1a5e8766cd",
   "metadata": {},
   "outputs": [
    {
     "data": {
      "text/plain": [
       "200"
      ]
     },
     "execution_count": 63,
     "metadata": {},
     "output_type": "execute_result"
    }
   ],
   "source": [
    "response.status_code"
   ]
  },
  {
   "cell_type": "code",
   "execution_count": 64,
   "id": "8e64715e-e879-4790-bf72-78a4935f0eb8",
   "metadata": {},
   "outputs": [
    {
     "data": {
      "text/plain": [
       "{'stores': [{'id': '1bdde24b26124ecfbcd05d3bb225d99f', 'name': 'Pet Shop'}]}"
      ]
     },
     "execution_count": 64,
     "metadata": {},
     "output_type": "execute_result"
    }
   ],
   "source": [
    "response.json()"
   ]
  },
  {
   "cell_type": "markdown",
   "id": "a350e73c-fa70-405d-b8da-33741af78fb6",
   "metadata": {},
   "source": [
    "## create item"
   ]
  },
  {
   "cell_type": "code",
   "execution_count": 65,
   "id": "3ddc472f-7b9b-4b5e-9e2f-3c91ceab26e0",
   "metadata": {},
   "outputs": [],
   "source": [
    "data = {\n",
    "    \"store_id\": '1bdde24b26124ecfbcd05d3bb225d99f',\n",
    "    \"price\": 13.99,\n",
    "    \"name\": \"Cat House\"\n",
    "}\n",
    "\n",
    "\n",
    "response = requests.post(f\"http://127.0.0.1:{port}/item\", json=data, headers=headers)"
   ]
  },
  {
   "cell_type": "code",
   "execution_count": 66,
   "id": "fc7f50e3-2925-44ba-9e31-7add0d24585c",
   "metadata": {},
   "outputs": [
    {
     "data": {
      "text/plain": [
       "200"
      ]
     },
     "execution_count": 66,
     "metadata": {},
     "output_type": "execute_result"
    }
   ],
   "source": [
    "response.status_code"
   ]
  },
  {
   "cell_type": "code",
   "execution_count": 67,
   "id": "dff115cd-9653-4920-a68c-25ea7a31c0bc",
   "metadata": {},
   "outputs": [
    {
     "data": {
      "text/plain": [
       "{'id': 'fa1e5818757443969b595fef336a5e66',\n",
       " 'name': 'Cat House',\n",
       " 'price': 13.99,\n",
       " 'store_id': '1bdde24b26124ecfbcd05d3bb225d99f'}"
      ]
     },
     "execution_count": 67,
     "metadata": {},
     "output_type": "execute_result"
    }
   ],
   "source": [
    "response.json()"
   ]
  },
  {
   "cell_type": "code",
   "execution_count": null,
   "id": "0c7d5cde-e3b0-4bd6-8132-44c14a8821c3",
   "metadata": {},
   "outputs": [],
   "source": []
  },
  {
   "cell_type": "markdown",
   "id": "e54c8bd0-c05a-4c78-ab77-5f31f17faa96",
   "metadata": {},
   "source": [
    "## get item"
   ]
  },
  {
   "cell_type": "code",
   "execution_count": 71,
   "id": "c04afcd9-75ac-43b5-8bea-23f0640fc7af",
   "metadata": {},
   "outputs": [],
   "source": [
    "item_id = 'fa1e5818757443969b595fef336a5e66'\n",
    "response = requests.get(f\"http://127.0.0.1:{port}/item/{item_id}\")"
   ]
  },
  {
   "cell_type": "code",
   "execution_count": 72,
   "id": "cc30445b-08db-4505-943e-242bef5a7d49",
   "metadata": {},
   "outputs": [
    {
     "data": {
      "text/plain": [
       "200"
      ]
     },
     "execution_count": 72,
     "metadata": {},
     "output_type": "execute_result"
    }
   ],
   "source": [
    "response.status_code"
   ]
  },
  {
   "cell_type": "code",
   "execution_count": 73,
   "id": "3b896f17-3011-4652-a573-b9d5142394f2",
   "metadata": {},
   "outputs": [
    {
     "data": {
      "text/plain": [
       "{'id': 'fa1e5818757443969b595fef336a5e66',\n",
       " 'name': 'Cat House',\n",
       " 'price': 13.99,\n",
       " 'store_id': '1bdde24b26124ecfbcd05d3bb225d99f'}"
      ]
     },
     "execution_count": 73,
     "metadata": {},
     "output_type": "execute_result"
    }
   ],
   "source": [
    "response.json()"
   ]
  },
  {
   "cell_type": "markdown",
   "id": "aa5703c1-00d8-46f3-98f8-4de5a07266e1",
   "metadata": {},
   "source": [
    "## delete item"
   ]
  },
  {
   "cell_type": "code",
   "execution_count": 74,
   "id": "25bcd193-8db1-46c3-b32e-ee13251a8f25",
   "metadata": {},
   "outputs": [],
   "source": [
    "item_id = 'fa1e5818757443969b595fef336a5e66'\n",
    "response = requests.delete(f\"http://127.0.0.1:{port}/item/{item_id}\")"
   ]
  },
  {
   "cell_type": "code",
   "execution_count": 75,
   "id": "6a94efb5-1c69-47de-94ab-232b55077da4",
   "metadata": {},
   "outputs": [
    {
     "data": {
      "text/plain": [
       "200"
      ]
     },
     "execution_count": 75,
     "metadata": {},
     "output_type": "execute_result"
    }
   ],
   "source": [
    "response.status_code"
   ]
  },
  {
   "cell_type": "code",
   "execution_count": 76,
   "id": "292afc06-d699-4acf-af7a-1f249be067af",
   "metadata": {},
   "outputs": [
    {
     "data": {
      "text/plain": [
       "{'message': 'Item deleted.'}"
      ]
     },
     "execution_count": 76,
     "metadata": {},
     "output_type": "execute_result"
    }
   ],
   "source": [
    "response.json()"
   ]
  },
  {
   "cell_type": "markdown",
   "id": "1c3b8f10-7233-48be-b28a-ca182b870a64",
   "metadata": {},
   "source": [
    "## get all items"
   ]
  },
  {
   "cell_type": "code",
   "execution_count": 77,
   "id": "e7131802-a153-4ab2-9a0c-7154000e6a6b",
   "metadata": {},
   "outputs": [],
   "source": [
    "response = requests.get(f\"http://127.0.0.1:{port}/store\")"
   ]
  },
  {
   "cell_type": "code",
   "execution_count": 78,
   "id": "71043db3-a599-46e9-9d5e-e7ff4d40bb76",
   "metadata": {},
   "outputs": [
    {
     "data": {
      "text/plain": [
       "200"
      ]
     },
     "execution_count": 78,
     "metadata": {},
     "output_type": "execute_result"
    }
   ],
   "source": [
    "response.status_code"
   ]
  },
  {
   "cell_type": "code",
   "execution_count": 79,
   "id": "0cfc9741-ad91-4737-9b87-a88fd13c8eaa",
   "metadata": {},
   "outputs": [
    {
     "data": {
      "text/plain": [
       "{'stores': [{'id': '1bdde24b26124ecfbcd05d3bb225d99f', 'name': 'Pet Shop'}]}"
      ]
     },
     "execution_count": 79,
     "metadata": {},
     "output_type": "execute_result"
    }
   ],
   "source": [
    "response.json()"
   ]
  },
  {
   "cell_type": "code",
   "execution_count": null,
   "id": "b8cc49f4-1223-4acf-a584-b659b4a66b80",
   "metadata": {},
   "outputs": [],
   "source": []
  },
  {
   "cell_type": "code",
   "execution_count": 9,
   "id": "2fdffe87-d2a7-4b53-a380-185ea870a74f",
   "metadata": {},
   "outputs": [],
   "source": [
    "test = {'a': {'d': 4}, 'b': 2, 'c': 1}\n",
    "item = test['a']"
   ]
  },
  {
   "cell_type": "code",
   "execution_count": 10,
   "id": "73977362-1880-4b03-8138-3ef41be07ffa",
   "metadata": {},
   "outputs": [],
   "source": [
    "item |= {'e': 6}"
   ]
  },
  {
   "cell_type": "code",
   "execution_count": 11,
   "id": "2dfa407a-2a80-4c0f-abe6-e2cd2b423dc3",
   "metadata": {},
   "outputs": [
    {
     "data": {
      "text/plain": [
       "{'d': 4, 'e': 6}"
      ]
     },
     "execution_count": 11,
     "metadata": {},
     "output_type": "execute_result"
    }
   ],
   "source": [
    "test['a']"
   ]
  },
  {
   "cell_type": "code",
   "execution_count": null,
   "id": "2d545da0-a25c-4fe8-933e-249c706cb83b",
   "metadata": {},
   "outputs": [],
   "source": []
  }
 ],
 "metadata": {
  "kernelspec": {
   "display_name": "Python 3 (ipykernel)",
   "language": "python",
   "name": "python3"
  },
  "language_info": {
   "codemirror_mode": {
    "name": "ipython",
    "version": 3
   },
   "file_extension": ".py",
   "mimetype": "text/x-python",
   "name": "python",
   "nbconvert_exporter": "python",
   "pygments_lexer": "ipython3",
   "version": "3.10.4"
  }
 },
 "nbformat": 4,
 "nbformat_minor": 5
}
