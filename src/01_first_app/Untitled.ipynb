{
 "cells": [
  {
   "cell_type": "code",
   "execution_count": 35,
   "id": "cef5e63d-f98d-4e2b-babb-86f5e3254831",
   "metadata": {},
   "outputs": [],
   "source": [
    "import requests"
   ]
  },
  {
   "cell_type": "code",
   "execution_count": 53,
   "id": "e7131802-a153-4ab2-9a0c-7154000e6a6b",
   "metadata": {},
   "outputs": [],
   "source": [
    "response = requests.get(\"http://127.0.0.1:5000/store\")"
   ]
  },
  {
   "cell_type": "code",
   "execution_count": 54,
   "id": "0cfc9741-ad91-4737-9b87-a88fd13c8eaa",
   "metadata": {},
   "outputs": [
    {
     "data": {
      "text/plain": [
       "{'stores': [{'items': [{'name': 'Chair', 'price': 15.99},\n",
       "    {'name': 'Brownie', 'price': 5.99},\n",
       "    {'name': 'Brownie', 'price': 5.99}],\n",
       "   'name': 'My Store'},\n",
       "  {'items': [], 'name': 'My Store'}]}"
      ]
     },
     "execution_count": 54,
     "metadata": {},
     "output_type": "execute_result"
    }
   ],
   "source": [
    "response.json()"
   ]
  },
  {
   "cell_type": "code",
   "execution_count": 48,
   "id": "6206057d-2049-40fe-91d6-35799eaf752e",
   "metadata": {},
   "outputs": [],
   "source": [
    "data = {\n",
    "    \"items\":[],\n",
    "    \"name\":\"My Store\"\n",
    "}\n",
    "\n",
    "headers = {'Content-type': 'application/json'}\n",
    "\n",
    "response = requests.post(\"http://127.0.0.1:5000/store\", json=data, headers=headers)"
   ]
  },
  {
   "cell_type": "code",
   "execution_count": 49,
   "id": "ae1295d2-43ea-4ff2-bda9-dfb66fbcede1",
   "metadata": {},
   "outputs": [
    {
     "data": {
      "text/plain": [
       "{'items': [], 'name': 'My Store'}"
      ]
     },
     "execution_count": 49,
     "metadata": {},
     "output_type": "execute_result"
    }
   ],
   "source": [
    "data"
   ]
  },
  {
   "cell_type": "code",
   "execution_count": 40,
   "id": "c8b428c3-d766-4492-935d-2388f4dcc611",
   "metadata": {},
   "outputs": [
    {
     "data": {
      "text/plain": [
       "<Response [201]>"
      ]
     },
     "execution_count": 40,
     "metadata": {},
     "output_type": "execute_result"
    }
   ],
   "source": [
    "response"
   ]
  },
  {
   "cell_type": "code",
   "execution_count": 96,
   "id": "16f544a1-cb85-4e57-9412-abc10cd196f9",
   "metadata": {},
   "outputs": [
    {
     "data": {
      "text/plain": [
       "<Response [201]>"
      ]
     },
     "execution_count": 96,
     "metadata": {},
     "output_type": "execute_result"
    }
   ],
   "source": [
    "data = {\n",
    "    \"name\": \"Toy\",\n",
    "    \"price\": 5.99\n",
    "}\n",
    "\n",
    "response = requests.post(\"http://127.0.0.1:5000/store/My Store/item\", json=data, headers=headers)\n",
    "response"
   ]
  },
  {
   "cell_type": "code",
   "execution_count": 97,
   "id": "0492d3d8-de3d-4471-8e42-4693536cee11",
   "metadata": {},
   "outputs": [
    {
     "data": {
      "text/plain": [
       "b'{\"name\":\"Toy\",\"price\":5.99}\\n'"
      ]
     },
     "execution_count": 97,
     "metadata": {},
     "output_type": "execute_result"
    }
   ],
   "source": [
    "response.content"
   ]
  },
  {
   "cell_type": "code",
   "execution_count": 98,
   "id": "ec4f060f-553a-4668-b66b-07bee7875405",
   "metadata": {},
   "outputs": [
    {
     "data": {
      "text/plain": [
       "<Response [200]>"
      ]
     },
     "execution_count": 98,
     "metadata": {},
     "output_type": "execute_result"
    }
   ],
   "source": [
    "response = requests.get(\"http://127.0.0.1:5000/store/My Store\", json=data, headers=headers)\n",
    "response"
   ]
  },
  {
   "cell_type": "code",
   "execution_count": 99,
   "id": "a077189c-be21-4c14-87d1-e87b11408704",
   "metadata": {},
   "outputs": [
    {
     "data": {
      "text/plain": [
       "b'{\"items\":[{\"name\":\"Chair\",\"price\":15.99},{\"name\":\"Toy\",\"price\":5.99}],\"name\":\"My Store\"}\\n'"
      ]
     },
     "execution_count": 99,
     "metadata": {},
     "output_type": "execute_result"
    }
   ],
   "source": [
    "response.content"
   ]
  },
  {
   "cell_type": "code",
   "execution_count": 100,
   "id": "0695e256-959c-49a4-bd0c-43759c94f077",
   "metadata": {},
   "outputs": [
    {
     "data": {
      "text/plain": [
       "<Response [200]>"
      ]
     },
     "execution_count": 100,
     "metadata": {},
     "output_type": "execute_result"
    }
   ],
   "source": [
    "response = requests.get(\"http://127.0.0.1:5000/store/My Store/item\", json=data, headers=headers)\n",
    "response"
   ]
  },
  {
   "cell_type": "code",
   "execution_count": 101,
   "id": "89a1d5c2-1429-49e4-9778-c8b385cb5004",
   "metadata": {},
   "outputs": [
    {
     "data": {
      "text/plain": [
       "b'{\"items\":[{\"name\":\"Chair\",\"price\":15.99},{\"name\":\"Toy\",\"price\":5.99}]}\\n'"
      ]
     },
     "execution_count": 101,
     "metadata": {},
     "output_type": "execute_result"
    }
   ],
   "source": [
    "response.content"
   ]
  },
  {
   "cell_type": "code",
   "execution_count": null,
   "id": "b8cc49f4-1223-4acf-a584-b659b4a66b80",
   "metadata": {},
   "outputs": [],
   "source": []
  }
 ],
 "metadata": {
  "kernelspec": {
   "display_name": "Python 3 (ipykernel)",
   "language": "python",
   "name": "python3"
  },
  "language_info": {
   "codemirror_mode": {
    "name": "ipython",
    "version": 3
   },
   "file_extension": ".py",
   "mimetype": "text/x-python",
   "name": "python",
   "nbconvert_exporter": "python",
   "pygments_lexer": "ipython3",
   "version": "3.10.4"
  }
 },
 "nbformat": 4,
 "nbformat_minor": 5
}
